{
 "cells": [
  {
   "cell_type": "code",
   "execution_count": null,
   "metadata": {},
   "outputs": [],
   "source": [
    "# Name: Rohan chatse \n",
    "# Email: rohancrchatse@gmail.com"
   ]
  },
  {
   "cell_type": "markdown",
   "metadata": {},
   "source": [
    "Define a doubly linked list "
   ]
  },
  {
   "cell_type": "code",
   "execution_count": null,
   "metadata": {},
   "outputs": [],
   "source": [
    "'''A doubly linked list is a data structure where each node contains a data element and two \n",
    "references one to the next node and one to the previous node. \n",
    "This bidirectional linkage allows traversal in both directions, making operations like \n",
    "insertion and deletion more flexible and efficient compared to a singly linked list.'''"
   ]
  },
  {
   "cell_type": "markdown",
   "metadata": {},
   "source": [
    "Write a function to  reverse a linked list in-place"
   ]
  },
  {
   "cell_type": "code",
   "execution_count": 3,
   "metadata": {},
   "outputs": [
    {
     "name": "stdout",
     "output_type": "stream",
     "text": [
      "Original list:\n",
      "1 -> 2 -> 3 -> 4 -> None\n",
      "Reversed list:\n",
      "4 -> 3 -> 2 -> 1 -> None\n"
     ]
    }
   ],
   "source": [
    "class ListNode:\n",
    "    def __init__(self, value=0, next=None):\n",
    "        self.value = value\n",
    "        self.next = next\n",
    "\n",
    "   \n",
    "def reverse_linked_list(head):\n",
    "    prev = None\n",
    "    current = head\n",
    "    while current is not None:\n",
    "        next_node = current.next  \n",
    "        current.next = prev       \n",
    "        prev = current            \n",
    "        current = next_node       \n",
    "    return prev \n",
    "\n",
    "def print_list(head):\n",
    "    while head:\n",
    "        print(head.value, end=' -> ')\n",
    "        head = head.next\n",
    "    print('None')\n",
    "\n",
    "\n",
    "head = ListNode(1, ListNode(2, ListNode(3, ListNode(4))))\n",
    "\n",
    "print(\"Original list:\")\n",
    "print_list(head)\n",
    "\n",
    "reversed_head = reverse_linked_list(head)\n",
    "\n",
    "print(\"Reversed list:\")\n",
    "print_list(reversed_head)\n"
   ]
  },
  {
   "cell_type": "markdown",
   "metadata": {},
   "source": [
    "Detect cycle in linked list "
   ]
  },
  {
   "cell_type": "code",
   "execution_count": 4,
   "metadata": {},
   "outputs": [
    {
     "name": "stdout",
     "output_type": "stream",
     "text": [
      "Original list:\n",
      "1 -> 2 -> 3 -> 4 -> None\n",
      "Cycle detected: True\n"
     ]
    }
   ],
   "source": [
    "def has_cycle(head):\n",
    "    slow = head\n",
    "    fast = head\n",
    "\n",
    "    while fast is not None and fast.next is not None:\n",
    "        slow = slow.next           \n",
    "        fast = fast.next.next      \n",
    "        \n",
    "        if slow == fast:           \n",
    "            return True\n",
    "\n",
    "    return False  \n",
    "\n",
    "\n",
    "\n",
    "def create_cycle(head, cycle_start_index):\n",
    "    cycle_start = None\n",
    "    current = head\n",
    "    index = 0\n",
    "    while current.next:\n",
    "        if index == cycle_start_index:\n",
    "            cycle_start = current\n",
    "        current = current.next\n",
    "        index += 1\n",
    "    if cycle_start:\n",
    "        current.next = cycle_start \n",
    "\n",
    "def print_list(head, max_nodes=20):\n",
    "    count = 0\n",
    "    while head and count < max_nodes:\n",
    "        print(head.value, end=' -> ')\n",
    "        head = head.next\n",
    "        count += 1\n",
    "    print('None')\n",
    "\n",
    "head = ListNode(1, ListNode(2, ListNode(3, ListNode(4))))\n",
    "\n",
    "print(\"Original list:\")\n",
    "print_list(head)\n",
    "\n",
    "create_cycle(head, 1)\n",
    "\n",
    "print(\"Cycle detected:\", has_cycle(head))\n",
    "\n"
   ]
  },
  {
   "cell_type": "markdown",
   "metadata": {},
   "source": [
    "Merge two sorted linked list into one 1->3->5->6->null and 2->4->6->8->null should be merged to make\n",
    "\n",
    "1->2->3->4->5->6->7->8"
   ]
  },
  {
   "cell_type": "code",
   "execution_count": 7,
   "metadata": {},
   "outputs": [
    {
     "name": "stdout",
     "output_type": "stream",
     "text": [
      "Merged List:\n",
      "1 -> 2 -> 3 -> 4 -> 5 -> 6 -> 6 -> 8 -> None\n"
     ]
    }
   ],
   "source": [
    "def merge_sorted_lists(l1, l2):\n",
    "    \n",
    "    \n",
    "    dummy = ListNode()\n",
    "    current = dummy\n",
    "\n",
    "    while l1 is not None and l2 is not None:\n",
    "        if l1.value < l2.value:\n",
    "            current.next = l1\n",
    "            l1 = l1.next\n",
    "        else:\n",
    "            current.next = l2\n",
    "            l2 = l2.next\n",
    "        current = current.next\n",
    "\n",
    "    if l1 is not None:\n",
    "        current.next = l1\n",
    "    if l2 is not None:\n",
    "        current.next = l2\n",
    "\n",
    "    return dummy.next\n",
    "\n",
    "\n",
    "def create_linked_list(values):\n",
    "    if not values:\n",
    "        return None\n",
    "    head = ListNode(values[0])\n",
    "    current = head\n",
    "    for value in values[1:]:\n",
    "        current.next = ListNode(value)\n",
    "        current = current.next\n",
    "    return head\n",
    "\n",
    "def print_linked_list(head):\n",
    "    while head:\n",
    "        print(head.value, end=' -> ')\n",
    "        head = head.next\n",
    "    print('None')\n",
    "\n",
    "\n",
    "l1 = create_linked_list([1, 3, 5, 6])\n",
    "l2 = create_linked_list([2, 4, 6, 8])\n",
    "\n",
    "merged_list = merge_sorted_lists(l1, l2)\n",
    "\n",
    "print(\"Merged List:\")\n",
    "print_linked_list(merged_list)\n"
   ]
  },
  {
   "cell_type": "markdown",
   "metadata": {},
   "source": [
    "Write a function to remove nth node from the end in a linked list\n",
    "1->2->3->4->5->6, removing 2nd node from end will return 1->2->3->4->6"
   ]
  },
  {
   "cell_type": "code",
   "execution_count": 8,
   "metadata": {},
   "outputs": [
    {
     "name": "stdout",
     "output_type": "stream",
     "text": [
      "Original List:\n",
      "1 -> 2 -> 3 -> 4 -> 5 -> 6 -> None\n",
      "Updated List:\n",
      "1 -> 2 -> 3 -> 4 -> 6 -> None\n"
     ]
    }
   ],
   "source": [
    "def remove_nth_from_end(head, n):\n",
    "    \n",
    "    \n",
    "    dummy = ListNode(0)\n",
    "    dummy.next = head\n",
    "    first = dummy\n",
    "    second = dummy\n",
    "    \n",
    "    for _ in range(n + 1):\n",
    "        first = first.next\n",
    "    \n",
    "    while first is not None:\n",
    "        first = first.next\n",
    "        second = second.next\n",
    "    \n",
    "    second.next = second.next.next\n",
    "    \n",
    "    return dummy.next\n",
    "\n",
    "\n",
    "\n",
    "def create_linked_list(values):\n",
    "    if not values:\n",
    "        return None\n",
    "    head = ListNode(values[0])\n",
    "    current = head\n",
    "    for value in values[1:]:\n",
    "        current.next = ListNode(value)\n",
    "        current = current.next\n",
    "    return head\n",
    "\n",
    "def print_linked_list(head):\n",
    "    while head:\n",
    "        print(head.value, end=' -> ')\n",
    "        head = head.next\n",
    "    print('None')\n",
    "\n",
    "\n",
    "head = create_linked_list([1, 2, 3, 4, 5, 6])\n",
    "\n",
    "print(\"Original List:\")\n",
    "print_linked_list(head)\n",
    "\n",
    "updated_head = remove_nth_from_end(head, 2)\n",
    "\n",
    "print(\"Updated List:\")\n",
    "print_linked_list(updated_head)\n"
   ]
  },
  {
   "cell_type": "markdown",
   "metadata": {},
   "source": [
    "Removing a duplicates from a sorted linked list \n",
    "1->2->3->3->4->4->4->5  should be changed to 1->2->3->4->5"
   ]
  },
  {
   "cell_type": "code",
   "execution_count": 10,
   "metadata": {},
   "outputs": [
    {
     "name": "stdout",
     "output_type": "stream",
     "text": [
      "Original List:\n",
      "1 -> 2 -> 3 -> 3 -> 4 -> 4 -> 4 -> 5 -> None\n",
      "List after removing duplicates:\n",
      "1 -> 2 -> 3 -> 4 -> 5 -> None\n"
     ]
    }
   ],
   "source": [
    "def remove_duplicates(head):\n",
    "    current = head\n",
    "\n",
    "    while current is not None and current.next is not None:\n",
    "        if current.value == current.next.value:\n",
    "            current.next = current.next.next\n",
    "        else:\n",
    "            current = current.next\n",
    "\n",
    "    return head\n",
    "\n",
    "def create_linked_list(values):\n",
    "    if not values:\n",
    "        return None\n",
    "    head = ListNode(values[0])\n",
    "    current = head\n",
    "    for value in values[1:]:\n",
    "        current.next = ListNode(value)\n",
    "        current = current.next\n",
    "    return head\n",
    "\n",
    "def print_linked_list(head):\n",
    "    while head:\n",
    "        print(head.value, end=' -> ')\n",
    "        head = head.next\n",
    "    print('None')\n",
    "\n",
    "head = create_linked_list([1, 2, 3, 3, 4, 4, 4, 5])\n",
    "\n",
    "print(\"Original List:\")\n",
    "print_linked_list(head)\n",
    "\n",
    "updated_head = remove_duplicates(head)\n",
    "\n",
    "print(\"List after removing duplicates:\")\n",
    "print_linked_list(updated_head)\n"
   ]
  },
  {
   "cell_type": "markdown",
   "metadata": {},
   "source": [
    "Find the intersection of two linked list 1->2->3->4->8->6->9  5->1->6->7  , intersection 1->6"
   ]
  },
  {
   "cell_type": "code",
   "execution_count": 11,
   "metadata": {},
   "outputs": [
    {
     "name": "stdout",
     "output_type": "stream",
     "text": [
      "Intersection List:\n",
      "None\n"
     ]
    }
   ],
   "source": [
    "def find_intersection(head1, head2):\n",
    "    \n",
    "    \n",
    "    nodes_set = set()\n",
    "    \n",
    "    current = head1\n",
    "    while current is not None:\n",
    "        nodes_set.add(current)\n",
    "        current = current.next\n",
    "    \n",
    "    intersection_head = None\n",
    "    intersection_current = None\n",
    "    current = head2\n",
    "    while current is not None:\n",
    "        if current in nodes_set:\n",
    "            if intersection_head is None:\n",
    "                intersection_head = ListNode(current.value)\n",
    "                intersection_current = intersection_head\n",
    "            else:\n",
    "                intersection_current.next = ListNode(current.value)\n",
    "                intersection_current = intersection_current.next\n",
    "        current = current.next\n",
    "    \n",
    "    return intersection_head\n",
    "\n",
    "\n",
    "def create_linked_list(values):\n",
    "    if not values:\n",
    "        return None\n",
    "    head = ListNode(values[0])\n",
    "    current = head\n",
    "    for value in values[1:]:\n",
    "        current.next = ListNode(value)\n",
    "        current = current.next\n",
    "    return head\n",
    "\n",
    "def print_linked_list(head):\n",
    "    while head:\n",
    "        print(head.value, end=' -> ')\n",
    "        head = head.next\n",
    "    print('None')\n",
    "\n",
    "list1 = create_linked_list([1, 2, 3, 4, 8, 6, 9])\n",
    "\n",
    "list2 = create_linked_list([5, 1, 6, 7])\n",
    "\n",
    "intersection = find_intersection(list1, list2)\n",
    "\n",
    "print(\"Intersection List:\")\n",
    "print_linked_list(intersection)\n"
   ]
  },
  {
   "cell_type": "markdown",
   "metadata": {},
   "source": [
    "Rotate the linked list to k position right  1->2->3->4->8->6->9 , after rotating for 2 times Cecomes , 3->4->8->6->9->1->2\n"
   ]
  },
  {
   "cell_type": "code",
   "execution_count": 12,
   "metadata": {},
   "outputs": [
    {
     "name": "stdout",
     "output_type": "stream",
     "text": [
      "Original List:\n",
      "1 -> 2 -> 3 -> 4 -> 8 -> 6 -> 9 -> None\n",
      "Rotated List:\n",
      "6 -> 9 -> 1 -> 2 -> 3 -> 4 -> 8 -> None\n"
     ]
    }
   ],
   "source": [
    "def rotate_right(head, k):\n",
    "    if head is None or k == 0:\n",
    "        return head\n",
    "\n",
    "    length = 1\n",
    "    old_tail = head\n",
    "    while old_tail.next is not None:\n",
    "        old_tail = old_tail.next\n",
    "        length += 1\n",
    "\n",
    "    k = k % length\n",
    "    if k == 0:\n",
    "        return head\n",
    "\n",
    "    new_tail = head\n",
    "    for _ in range(length - k - 1):\n",
    "        new_tail = new_tail.next\n",
    "\n",
    "    new_head = new_tail.next\n",
    "    new_tail.next = None\n",
    "    old_tail.next = head\n",
    "\n",
    "    return new_head\n",
    "\n",
    "\n",
    "\n",
    "def create_linked_list(values):\n",
    "    if not values:\n",
    "        return None\n",
    "    head = ListNode(values[0])\n",
    "    current = head\n",
    "    for value in values[1:]:\n",
    "        current.next = ListNode(value)\n",
    "        current = current.next\n",
    "    return head\n",
    "\n",
    "def print_linked_list(head):\n",
    "    while head:\n",
    "        print(head.value, end=' -> ')\n",
    "        head = head.next\n",
    "    print('None')\n",
    "\n",
    "head = create_linked_list([1, 2, 3, 4, 8, 6, 9])\n",
    "\n",
    "print(\"Original List:\")\n",
    "print_linked_list(head)\n",
    "\n",
    "rotated_head = rotate_right(head, 2)\n",
    "\n",
    "print(\"Rotated List:\")\n",
    "print_linked_list(rotated_head)\n"
   ]
  },
  {
   "cell_type": "markdown",
   "metadata": {},
   "source": [
    "Add two numbers represented by Linked list \n",
    "\n",
    "Given two non-empty linked lists representing two non-negative integers, where the digits are stored in\n",
    "reverse order, add the two numCers and return it as a linked list."
   ]
  },
  {
   "cell_type": "code",
   "execution_count": 13,
   "metadata": {},
   "outputs": [
    {
     "name": "stdout",
     "output_type": "stream",
     "text": [
      "List 1:\n",
      "2 -> 4 -> 3 -> None\n",
      "List 2:\n",
      "5 -> 6 -> 4 -> None\n",
      "Result:\n",
      "7 -> 0 -> 8 -> None\n"
     ]
    }
   ],
   "source": [
    "def add_two_numbers(l1, l2):\n",
    "    dummy_head = ListNode(0)\n",
    "    current = dummy_head\n",
    "    carry = 0\n",
    "    \n",
    "    while l1 is not None or l2 is not None or carry > 0:\n",
    "        \n",
    "        val1 = l1.value if l1 is not None else 0\n",
    "        val2 = l2.value if l2 is not None else 0\n",
    "        \n",
    "        total = val1 + val2 + carry\n",
    "        carry = total // 10\n",
    "        new_value = total % 10\n",
    "        \n",
    "        current.next = ListNode(new_value)\n",
    "        current = current.next\n",
    "        \n",
    "        if l1 is not None:\n",
    "            l1 = l1.next\n",
    "        if l2 is not None:\n",
    "            l2 = l2.next\n",
    "            \n",
    "    return dummy_head.next\n",
    "\n",
    "\n",
    "def create_linked_list(values):\n",
    "    if not values:\n",
    "        return None\n",
    "    head = ListNode(values[0])\n",
    "    current = head\n",
    "    for value in values[1:]:\n",
    "        current.next = ListNode(value)\n",
    "        current = current.next\n",
    "    return head\n",
    "\n",
    "def print_linked_list(head):\n",
    "    while head:\n",
    "        print(head.value, end=' -> ')\n",
    "        head = head.next\n",
    "    print('None')\n",
    "\n",
    "\n",
    "\n",
    "l1 = create_linked_list([2, 4, 3])\n",
    "l2 = create_linked_list([5, 6, 4])\n",
    "\n",
    "print(\"List 1:\")\n",
    "print_linked_list(l1)\n",
    "\n",
    "print(\"List 2:\")\n",
    "print_linked_list(l2)\n",
    "\n",
    "result = add_two_numbers(l1, l2)\n",
    "\n",
    "print(\"Result:\")\n",
    "print_linked_list(result)\n"
   ]
  },
  {
   "cell_type": "markdown",
   "metadata": {},
   "source": [
    "Clone a linked list with next and random pointer \n",
    "Given a linked list of size N where each node has two links: one pointer points to the next node and the\n",
    "second pointer points to any node in the list. The task is to create a clone of this linked list in O(N) time. \n",
    "\n",
    "\n",
    "Note: The pointer pointing to the next node is ‘next‘ pointer and the one pointing to an arCitrary node is\n",
    "called ‘arCit’ pointer as it can point to any arCitrary node in the linked list"
   ]
  },
  {
   "cell_type": "code",
   "execution_count": 15,
   "metadata": {},
   "outputs": [
    {
     "name": "stdout",
     "output_type": "stream",
     "text": [
      "Original List with Random Pointers:\n",
      "Value: 1, Random: 3\n",
      "Value: 2, Random: 1\n",
      "Value: 3, Random: 2\n",
      "Value: 4, Random: None\n",
      "Cloned List with Random Pointers:\n",
      "Value: 1, Random: 3\n",
      "Value: 2, Random: 1\n",
      "Value: 3, Random: 2\n",
      "Value: 4, Random: None\n"
     ]
    }
   ],
   "source": [
    "\n",
    "class ListNode:\n",
    "    def __init__(self, value=0, next=None, random=None):\n",
    "        self.value = value\n",
    "        self.next = next\n",
    "        self.random = random\n",
    "\n",
    "\n",
    "\n",
    "\n",
    "def clone_linked_list(head):\n",
    "    if not head:\n",
    "        return None\n",
    "\n",
    "    current = head\n",
    "    while current:\n",
    "        new_node = ListNode(current.value)\n",
    "        new_node.next = current.next\n",
    "        current.next = new_node\n",
    "        current = new_node.next\n",
    "\n",
    "    current = head\n",
    "    while current:\n",
    "        new_node = current.next\n",
    "        if current.random:\n",
    "            new_node.random = current.random.next\n",
    "        current = new_node.next\n",
    "\n",
    "    original_current = head\n",
    "    cloned_head = head.next\n",
    "    cloned_current = cloned_head\n",
    "\n",
    "    while original_current:\n",
    "        original_current.next = original_current.next.next\n",
    "        if cloned_current.next:\n",
    "            cloned_current.next = cloned_current.next.next\n",
    "        original_current = original_current.next\n",
    "        cloned_current = cloned_current.next\n",
    "\n",
    "    return cloned_head\n",
    "\n",
    "\n",
    "def create_linked_list_with_random(values, random_indices):\n",
    "    if not values:\n",
    "        return None\n",
    "\n",
    "    nodes = [ListNode(value) for value in values]\n",
    "    \n",
    "    for i in range(len(values)):\n",
    "        if i < len(values) - 1:\n",
    "            nodes[i].next = nodes[i + 1]\n",
    "        if random_indices[i] is not None:\n",
    "            nodes[i].random = nodes[random_indices[i]]\n",
    "\n",
    "    return nodes[0]\n",
    "\n",
    "def print_linked_list_with_random(head):\n",
    "    current = head\n",
    "    while current:\n",
    "        random_value = current.random.value if current.random else None\n",
    "        print(f\"Value: {current.value}, Random: {random_value}\")\n",
    "        current = current.next\n",
    "\n",
    "\n",
    "values = [1, 2, 3, 4]\n",
    "random_indices = [2, 0, 1, None]  \n",
    "\n",
    "head = create_linked_list_with_random(values, random_indices)\n",
    "\n",
    "print(\"Original List with Random Pointers:\")\n",
    "print_linked_list_with_random(head)\n",
    "\n",
    "cloned_head = clone_linked_list(head)\n",
    "\n",
    "print(\"Cloned List with Random Pointers:\")\n",
    "print_linked_list_with_random(cloned_head)\n"
   ]
  }
 ],
 "metadata": {
  "kernelspec": {
   "display_name": "Python 3",
   "language": "python",
   "name": "python3"
  },
  "language_info": {
   "codemirror_mode": {
    "name": "ipython",
    "version": 3
   },
   "file_extension": ".py",
   "mimetype": "text/x-python",
   "name": "python",
   "nbconvert_exporter": "python",
   "pygments_lexer": "ipython3",
   "version": "3.8.10"
  }
 },
 "nbformat": 4,
 "nbformat_minor": 2
}
