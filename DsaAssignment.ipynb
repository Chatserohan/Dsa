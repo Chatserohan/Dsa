{
 "cells": [
  {
   "cell_type": "code",
   "execution_count": null,
   "metadata": {},
   "outputs": [],
   "source": [
    "Name:Rohan chatse \n",
    "Email: rohancrchatse@gmail.com \n",
    "Git Link : "
   ]
  },
  {
   "cell_type": "markdown",
   "metadata": {},
   "source": [
    "Problem 1: Reverse a singly linked list.\n",
    "\n",
    "Input: 1 -> 2 -> 3 -> 4 -> 5\n",
    "Output: 5 -> 4 -> 3 -> 2 -> 1"
   ]
  },
  {
   "cell_type": "code",
   "execution_count": 1,
   "metadata": {},
   "outputs": [
    {
     "name": "stdout",
     "output_type": "stream",
     "text": [
      "Original Linked List:\n",
      "1 -> 2 -> 3 -> 4 -> 5\n",
      "Reversed Linked List:\n",
      "5 -> 4 -> 3 -> 2 -> 1\n"
     ]
    }
   ],
   "source": [
    "class ListNode:\n",
    "    def __init__(self, value=0, next=None):\n",
    "        self.value = value\n",
    "        self.next = next\n",
    "\n",
    "def reverse_linked_list(head):\n",
    "    previous = None\n",
    "    current = head\n",
    "    \n",
    "    while current:\n",
    "        next_node = current.next  \n",
    "        current.next = previous   \n",
    "        previous = current        \n",
    "        current = next_node       \n",
    "    \n",
    "    return previous  \n",
    "\n",
    "\n",
    "def print_linked_list(head):\n",
    "    current = head\n",
    "    while current:\n",
    "        print(current.value, end=\" -> \" if current.next else \"\\n\")\n",
    "        current = current.next\n",
    "\n",
    "head = ListNode(1, ListNode(2, ListNode(3, ListNode(4, ListNode(5)))))\n",
    "\n",
    "print(\"Original Linked List:\")\n",
    "print_linked_list(head)\n",
    "\n",
    "reversed_head = reverse_linked_list(head)\n",
    "\n",
    "print(\"Reversed Linked List:\")\n",
    "print_linked_list(reversed_head)\n"
   ]
  },
  {
   "cell_type": "markdown",
   "metadata": {},
   "source": [
    "Problem 2: Merge two sorted linked lists into one sorted linked list.\n",
    "Input: List 1: 1 -> 3 -> 5, List 2: 2 -> 4 -> 6\n",
    "Output: 1 -> 2 -> 3 -> 4 -> 5 -> 6"
   ]
  },
  {
   "cell_type": "code",
   "execution_count": 2,
   "metadata": {},
   "outputs": [
    {
     "name": "stdout",
     "output_type": "stream",
     "text": [
      "List 1:\n",
      "1 -> 3 -> 5\n",
      "List 2:\n",
      "2 -> 4 -> 6\n",
      "Merged Sorted List:\n",
      "1 -> 2 -> 3 -> 4 -> 5 -> 6\n"
     ]
    }
   ],
   "source": [
    "class ListNode:\n",
    "    def __init__(self, value=0, next=None):\n",
    "        self.value = value\n",
    "        self.next = next\n",
    "\n",
    "def merge_two_sorted_lists(list1, list2):\n",
    "    dummy = ListNode()\n",
    "    current = dummy  \n",
    "    while list1 and list2:\n",
    "        if list1.value < list2.value:\n",
    "            current.next = list1\n",
    "            list1 = list1.next  \n",
    "        else:\n",
    "            current.next = list2\n",
    "            list2 = list2.next  \n",
    "        current = current.next  \n",
    "\n",
    "    if list1:\n",
    "        current.next = list1\n",
    "    else:\n",
    "        current.next = list2\n",
    "\n",
    "    return dummy.next\n",
    "\n",
    "def print_linked_list(head):\n",
    "    current = head\n",
    "    while current:\n",
    "        print(current.value, end=\" -> \" if current.next else \"\\n\")\n",
    "        current = current.next\n",
    "\n",
    "list1 = ListNode(1, ListNode(3, ListNode(5)))\n",
    "\n",
    "list2 = ListNode(2, ListNode(4, ListNode(6)))\n",
    "\n",
    "print(\"List 1:\")\n",
    "print_linked_list(list1)\n",
    "\n",
    "print(\"List 2:\")\n",
    "print_linked_list(list2)\n",
    "\n",
    "merged_head = merge_two_sorted_lists(list1, list2)\n",
    "\n",
    "print(\"Merged Sorted List:\")\n",
    "print_linked_list(merged_head)\n"
   ]
  },
  {
   "cell_type": "markdown",
   "metadata": {},
   "source": [
    "\n",
    "Problem 3: Remove the nth node from the end of a linked list.\n",
    "Input: 1 -> 2 -> 3 -> 4 -> 5, n = 2\n",
    "Output: 1 -> 2 -> 3 -> 5"
   ]
  },
  {
   "cell_type": "code",
   "execution_count": 3,
   "metadata": {},
   "outputs": [
    {
     "name": "stdout",
     "output_type": "stream",
     "text": [
      "Original Linked List:\n",
      "1 -> 2 -> 3 -> 4 -> 5\n",
      "Linked List after removing 2th node from end:\n",
      "1 -> 2 -> 3 -> 5\n"
     ]
    }
   ],
   "source": [
    "class ListNode:\n",
    "    def __init__(self, value=0, next=None):\n",
    "        self.value = value\n",
    "        self.next = next\n",
    "\n",
    "def remove_nth_from_end(head, n):\n",
    "\n",
    "    dummy = ListNode(0)\n",
    "    dummy.next = head\n",
    "    first = dummy\n",
    "    second = dummy\n",
    "\n",
    "    for _ in range(n + 1):\n",
    "        first = first.next\n",
    "\n",
    "    while first:\n",
    "        first = first.next\n",
    "        second = second.next\n",
    "\n",
    "    second.next = second.next.next\n",
    "\n",
    "    return dummy.next\n",
    "\n",
    "def print_linked_list(head):\n",
    "    current = head\n",
    "    while current:\n",
    "        print(current.value, end=\" -> \" if current.next else \"\\n\")\n",
    "        current = current.next\n",
    "\n",
    "head = ListNode(1, ListNode(2, ListNode(3, ListNode(4, ListNode(5)))))\n",
    "\n",
    "print(\"Original Linked List:\")\n",
    "print_linked_list(head)\n",
    "\n",
    "n = 2\n",
    "modified_head = remove_nth_from_end(head, n)\n",
    "\n",
    "print(f\"Linked List after removing {n}th node from end:\")\n",
    "print_linked_list(modified_head)\n"
   ]
  },
  {
   "cell_type": "markdown",
   "metadata": {},
   "source": [
    "\n",
    "Problem 4: Find the intersection point of two linked lists.\n",
    "Input: List 1: 1 -> 2 -> 3 -> 4, List 2: 9 -> 8 -> 3 -> 4\n",
    "Output: Node with value 3"
   ]
  },
  {
   "cell_type": "code",
   "execution_count": 4,
   "metadata": {},
   "outputs": [
    {
     "name": "stdout",
     "output_type": "stream",
     "text": [
      "List 1:\n",
      "1 -> 2 -> 3 -> 4\n",
      "List 2:\n",
      "9 -> 8 -> 3 -> 4\n",
      "Intersection at node with value: 3\n"
     ]
    }
   ],
   "source": [
    "class ListNode:\n",
    "    def __init__(self, value=0, next=None):\n",
    "        self.value = value\n",
    "        self.next = next\n",
    "\n",
    "def find_intersection(headA, headB):\n",
    "    if not headA or not headB:\n",
    "        return None\n",
    "    \n",
    "    pointerA, pointerB = headA, headB\n",
    "\n",
    "    while pointerA != pointerB:\n",
    "        pointerA = pointerA.next if pointerA else headB\n",
    "        pointerB = pointerB.next if pointerB else headA\n",
    "    \n",
    "    return pointerA\n",
    "\n",
    "def print_linked_list(head):\n",
    "    current = head\n",
    "    while current:\n",
    "        print(current.value, end=\" -> \" if current.next else \"\\n\")\n",
    "        current = current.next\n",
    "\n",
    "list1 = ListNode(1, ListNode(2, ListNode(3, ListNode(4))))\n",
    "\n",
    "intersection = list1.next.next \n",
    "list2 = ListNode(9, ListNode(8, intersection))\n",
    "\n",
    "print(\"List 1:\")\n",
    "print_linked_list(list1)\n",
    "\n",
    "print(\"List 2:\")\n",
    "print_linked_list(list2)\n",
    "\n",
    "intersection_node = find_intersection(list1, list2)\n",
    "\n",
    "if intersection_node:\n",
    "    print(f\"Intersection at node with value: {intersection_node.value}\")\n",
    "else:\n",
    "    print(\"No intersection found.\")\n"
   ]
  },
  {
   "cell_type": "markdown",
   "metadata": {},
   "source": [
    "\n",
    "Problem 5: Remove duplicates from a sorted linked list.\n",
    "Input: 1 -> 1 -> 2 -> 3 -> 3\n",
    "Output: 1 -> 2 -> 3"
   ]
  },
  {
   "cell_type": "code",
   "execution_count": 5,
   "metadata": {},
   "outputs": [
    {
     "name": "stdout",
     "output_type": "stream",
     "text": [
      "1 -> 2 -> 3\n"
     ]
    }
   ],
   "source": [
    "class ListNode:\n",
    "    def __init__(self, value=0, next=None):\n",
    "        self.value = value\n",
    "        self.next = next\n",
    "\n",
    "def remove_duplicates(head):\n",
    "    current = head\n",
    "    while current and current.next:\n",
    "        if current.value == current.next.value:\n",
    "            current.next = current.next.next  \n",
    "        else:\n",
    "            current = current.next \n",
    "    return head\n",
    "\n",
    "def print_linked_list(head):\n",
    "    current = head\n",
    "    while current:\n",
    "        print(current.value, end=\" -> \" if current.next else \"\\n\")\n",
    "        current = current.next\n",
    "\n",
    "head = ListNode(1, ListNode(1, ListNode(2, ListNode(3, ListNode(3)))))\n",
    "\n",
    "head = remove_duplicates(head)\n",
    "\n",
    "print_linked_list(head)\n"
   ]
  },
  {
   "cell_type": "markdown",
   "metadata": {},
   "source": [
    "\n",
    "Problem 6: Add two numbers represented by linked lists (where each node contains a single digit).\n",
    "Input: List 1: 2 -> 4 -> 3, List 2: 5 -> 6 -> 4 (represents 342 + 465)\n",
    "Output: 7 -> 0 -> 8 (represents 807)"
   ]
  },
  {
   "cell_type": "code",
   "execution_count": 6,
   "metadata": {},
   "outputs": [
    {
     "name": "stdout",
     "output_type": "stream",
     "text": [
      "2 -> 4 -> 3\n",
      "5 -> 6 -> 4\n",
      "7 -> 0 -> 8\n"
     ]
    }
   ],
   "source": [
    "class ListNode:\n",
    "    def __init__(self, value=0, next=None):\n",
    "        self.value = value\n",
    "        self.next = next\n",
    "\n",
    "def add_two_numbers(l1, l2):\n",
    "    dummy = ListNode()\n",
    "    current = dummy\n",
    "    carry = 0\n",
    "\n",
    "    while l1 or l2 or carry:\n",
    "        val1 = l1.value if l1 else 0\n",
    "        val2 = l2.value if l2 else 0\n",
    "        \n",
    "        total = val1 + val2 + carry\n",
    "        carry = total // 10\n",
    "        total = total % 10\n",
    "        \n",
    "        current.next = ListNode(total)\n",
    "        current = current.next\n",
    "        \n",
    "        if l1: l1 = l1.next\n",
    "        if l2: l2 = l2.next\n",
    "\n",
    "    return dummy.next\n",
    "\n",
    "def print_linked_list(head):\n",
    "    current = head\n",
    "    while current:\n",
    "        print(current.value, end=\" -> \" if current.next else \"\\n\")\n",
    "        current = current.next\n",
    "\n",
    "l1 = ListNode(2, ListNode(4, ListNode(3)))\n",
    "l2 = ListNode(5, ListNode(6, ListNode(4)))\n",
    "\n",
    "print_linked_list(l1)\n",
    "print_linked_list(l2)\n",
    "\n",
    "result = add_two_numbers(l1, l2)\n",
    "\n",
    "print_linked_list(result)\n"
   ]
  },
  {
   "cell_type": "markdown",
   "metadata": {},
   "source": [
    "\n",
    "Problem 7: Swap nodes in pairs in a linked list.\n",
    "Input: 1 -> 2 -> 3 -> 4\n",
    "Output: 2 -> 1 -> 4 -> 3"
   ]
  },
  {
   "cell_type": "code",
   "execution_count": 7,
   "metadata": {},
   "outputs": [
    {
     "name": "stdout",
     "output_type": "stream",
     "text": [
      "Original list:\n",
      "1 -> 2 -> 3 -> 4\n",
      "List after swapping pairs:\n",
      "2 -> 1 -> 4 -> 3\n"
     ]
    }
   ],
   "source": [
    "class ListNode:\n",
    "    def __init__(self, value=0, next=None):\n",
    "        self.value = value\n",
    "        self.next = next\n",
    "\n",
    "def swap_pairs(head):\n",
    "    dummy = ListNode(0)\n",
    "    dummy.next = head\n",
    "    prev = dummy\n",
    "    \n",
    "    while head and head.next:\n",
    "        first = head\n",
    "        second = head.next\n",
    "        \n",
    "        prev.next = second\n",
    "        first.next = second.next\n",
    "        second.next = first\n",
    "        \n",
    "        prev = first\n",
    "        head = first.next\n",
    "    \n",
    "    return dummy.next\n",
    "\n",
    "def print_linked_list(head):\n",
    "    current = head\n",
    "    while current:\n",
    "        print(current.value, end=\" -> \" if current.next else \"\\n\")\n",
    "        current = current.next\n",
    "\n",
    "head = ListNode(1, ListNode(2, ListNode(3, ListNode(4))))\n",
    "\n",
    "print(\"Original list:\")\n",
    "print_linked_list(head)\n",
    "\n",
    "swapped_head = swap_pairs(head)\n",
    "\n",
    "print(\"List after swapping pairs:\")\n",
    "print_linked_list(swapped_head)\n"
   ]
  },
  {
   "cell_type": "markdown",
   "metadata": {},
   "source": [
    "\n",
    "Problem 8: Reverse nodes in a linked list in groups of k.\n",
    "Input: 1 -> 2 -> 3 -> 4 -> 5, k = 3\n",
    "Output: 3 -> 2 -> 1 -> 4 -> 5"
   ]
  },
  {
   "cell_type": "code",
   "execution_count": 8,
   "metadata": {},
   "outputs": [
    {
     "name": "stdout",
     "output_type": "stream",
     "text": [
      "Original list:\n",
      "1 -> 2 -> 3 -> 4 -> 5\n",
      "List after reversing in groups of 3:\n",
      "3 -> 2 -> 1 -> 4 -> 5\n"
     ]
    }
   ],
   "source": [
    "class ListNode:\n",
    "    def __init__(self, value=0, next=None):\n",
    "        self.value = value\n",
    "        self.next = next\n",
    "\n",
    "def reverse_k_group(head, k):\n",
    "    \n",
    "    def reverse_linked_list(start, end):\n",
    "        prev, curr = None, start\n",
    "        while curr != end:\n",
    "            next_node = curr.next\n",
    "            curr.next = prev\n",
    "            prev = curr\n",
    "            curr = next_node\n",
    "        return prev\n",
    "\n",
    "    count = 0\n",
    "    current = head\n",
    "    while current and count < k:\n",
    "        current = current.next\n",
    "        count += 1\n",
    "\n",
    "    if count == k:\n",
    "        \n",
    "        new_head = reverse_linked_list(head, current)\n",
    "\n",
    "        head.next = reverse_k_group(current, k)\n",
    "        return new_head\n",
    "    return head\n",
    "\n",
    "def print_linked_list(head):\n",
    "    current = head\n",
    "    while current:\n",
    "        print(current.value, end=\" -> \" if current.next else \"\\n\")\n",
    "        current = current.next\n",
    "\n",
    "head = ListNode(1, ListNode(2, ListNode(3, ListNode(4, ListNode(5)))))\n",
    "\n",
    "print(\"Original list:\")\n",
    "print_linked_list(head)\n",
    "\n",
    "k = 3\n",
    "reversed_head = reverse_k_group(head, k)\n",
    "\n",
    "print(f\"List after reversing in groups of {k}:\")\n",
    "print_linked_list(reversed_head)\n"
   ]
  },
  {
   "cell_type": "markdown",
   "metadata": {},
   "source": [
    "\n",
    "Problem 9: Determine if a linked list is a palindrome.\n",
    "Input: 1 -> 2 -> 2 -> 1\n",
    "Output: True"
   ]
  },
  {
   "cell_type": "code",
   "execution_count": 9,
   "metadata": {},
   "outputs": [
    {
     "name": "stdout",
     "output_type": "stream",
     "text": [
      "Original list:\n",
      "1 -> 2 -> 2 -> 1\n",
      "Is palindrome: True\n"
     ]
    }
   ],
   "source": [
    "class ListNode:\n",
    "    def __init__(self, value=0, next=None):\n",
    "        self.value = value\n",
    "        self.next = next\n",
    "\n",
    "def is_palindrome(head):\n",
    "    \n",
    "    def reverse_list(head):\n",
    "        prev, curr = None, head\n",
    "        while curr:\n",
    "            next_node = curr.next\n",
    "            curr.next = prev\n",
    "            prev = curr\n",
    "            curr = next_node\n",
    "        return prev\n",
    "\n",
    "    def find_middle(head):\n",
    "        slow, fast = head, head\n",
    "        while fast and fast.next:\n",
    "            slow = slow.next\n",
    "            fast = fast.next.next\n",
    "        return slow\n",
    "\n",
    "    if not head or not head.next:\n",
    "        return True\n",
    "    \n",
    "    middle = find_middle(head)\n",
    "    \n",
    "    second_half_start = reverse_list(middle)\n",
    "    \n",
    "    first_half_start = head\n",
    "    second_half_copy = second_half_start  \n",
    "    \n",
    "    while second_half_start:\n",
    "        if first_half_start.value != second_half_start.value:\n",
    "            return False\n",
    "        first_half_start = first_half_start.next\n",
    "        second_half_start = second_half_start.next\n",
    "    \n",
    "    reverse_list(second_half_copy)\n",
    "    \n",
    "    return True\n",
    "\n",
    "def print_linked_list(head):\n",
    "    current = head\n",
    "    while current:\n",
    "        print(current.value, end=\" -> \" if current.next else \"\\n\")\n",
    "        current = current.next\n",
    "\n",
    "head = ListNode(1, ListNode(2, ListNode(2, ListNode(1))))\n",
    "\n",
    "print(\"Original list:\")\n",
    "print_linked_list(head)\n",
    "\n",
    "is_palindrome_result = is_palindrome(head)\n",
    "\n",
    "print(f\"Is palindrome: {is_palindrome_result}\")\n"
   ]
  },
  {
   "cell_type": "markdown",
   "metadata": {},
   "source": [
    " Problem 10: Rotate a linked list to the right by k places.\n",
    " Input: 1 -> 2 -> 3 -> 4 -> 5, k = 2\n",
    "Output: 4 -> 5 -> 1 -> 2 -> 3"
   ]
  },
  {
   "cell_type": "code",
   "execution_count": 1,
   "metadata": {},
   "outputs": [
    {
     "name": "stdout",
     "output_type": "stream",
     "text": [
      "4 -> 5 -> 1 -> 2 -> 3\n"
     ]
    }
   ],
   "source": [
    "class ListNode:\n",
    "    def __init__(self, val=0, next=None):\n",
    "        self.val = val\n",
    "        self.next = next\n",
    "\n",
    "def rotateRight(head, k):\n",
    "    if not head or k == 0:\n",
    "        return head\n",
    "\n",
    "    length = 1\n",
    "    old_tail = head\n",
    "    while old_tail.next:\n",
    "        old_tail = old_tail.next\n",
    "        length += 1\n",
    "\n",
    "    k %= length\n",
    "    if k == 0:\n",
    "        return head\n",
    "\n",
    "    \n",
    "    new_tail = head\n",
    "    for _ in range(length - k - 1):\n",
    "        new_tail = new_tail.next\n",
    "    new_head = new_tail.next\n",
    "\n",
    "    old_tail.next = head\n",
    "    new_tail.next = None\n",
    "\n",
    "    return new_head\n",
    "\n",
    "def print_list(node):\n",
    "    while node:\n",
    "        print(node.val, end=\" -> \" if node.next else \"\\n\")\n",
    "        node = node.next\n",
    "\n",
    "\n",
    "head = ListNode(1, ListNode(2, ListNode(3, ListNode(4, ListNode(5)))))\n",
    "\n",
    "rotated_head = rotateRight(head, 2)\n",
    "\n",
    "print_list(rotated_head)  "
   ]
  },
  {
   "cell_type": "markdown",
   "metadata": {},
   "source": [
    "Problem 11: Flatten a multilevel doubly linked list.\n",
    "Input: 1 <-> 2 <-> 3 <-> 7 <-> 8 <-> 11 -> 12, 4 <-> 5 -> 9 -> 10, 6 -> 13\n",
    "Output: 1 <-> 2 <-> 3 <-> 4 <-> 5 <-> 6 <-> 7 <-> 8 <-> 9 <-> 10 <-> 11 <-> 12 <-> 13"
   ]
  },
  {
   "cell_type": "code",
   "execution_count": 3,
   "metadata": {},
   "outputs": [
    {
     "name": "stdout",
     "output_type": "stream",
     "text": [
      "1 -> 2 -> 3 -> 7 -> 4 -> 6 -> 13 -> 5 -> 9 -> 10 -> 8 -> 11 -> 12\n"
     ]
    }
   ],
   "source": [
    "class Node:\n",
    "    def __init__(self, val=0, prev=None, next=None, child=None):\n",
    "        self.val = val\n",
    "        self.prev = prev\n",
    "        self.next = next\n",
    "        self.child = child\n",
    "\n",
    "def flatten(head):\n",
    "    if not head:\n",
    "        return None\n",
    "\n",
    "    pseudo_head = Node(0)\n",
    "    pseudo_head.next = head\n",
    "    head.prev = pseudo_head\n",
    "    stack = [head]\n",
    "    prev = pseudo_head\n",
    "\n",
    "    while stack:\n",
    "        curr = stack.pop()\n",
    "        prev.next = curr\n",
    "        curr.prev = prev\n",
    "\n",
    "        if curr.next:\n",
    "            stack.append(curr.next)\n",
    "            curr.next = None\n",
    "        \n",
    "        if curr.child:\n",
    "            stack.append(curr.child)\n",
    "            curr.child = None\n",
    "        \n",
    "        prev = curr\n",
    "\n",
    "    pseudo_head.next.prev = None\n",
    "    return pseudo_head.next\n",
    "\n",
    "\n",
    "def create_nodes(values):\n",
    "    nodes = [Node(val) for val in values]\n",
    "    for i in range(len(nodes) - 1):\n",
    "        nodes[i].next = nodes[i + 1]\n",
    "        nodes[i + 1].prev = nodes[i]\n",
    "    return nodes\n",
    "\n",
    "nodes1 = create_nodes([1, 2, 3])\n",
    "nodes2 = create_nodes([7, 8, 11, 12])\n",
    "nodes3 = create_nodes([4, 5, 9, 10])\n",
    "nodes4 = create_nodes([6, 13])\n",
    "\n",
    "nodes1[2].next = nodes2[0]\n",
    "nodes2[0].prev = nodes1[2]\n",
    "nodes2[0].child = nodes3[0]\n",
    "nodes3[0].prev = nodes2[0]\n",
    "nodes3[0].child = nodes4[0]\n",
    "nodes4[0].prev = nodes3[0]\n",
    "\n",
    "flattened_head = flatten(nodes1[0])\n",
    "print_list(flattened_head)  "
   ]
  },
  {
   "cell_type": "markdown",
   "metadata": {},
   "source": [
    "Problem 12: Rearrange a linked list such that all even positioned nodes are placed at the end.\n",
    "Input: 1 -> 2 -> 3 -> 4 -> 5\n",
    "Output: 1 -> 3 -> 5 -> 2 -> 4"
   ]
  },
  {
   "cell_type": "code",
   "execution_count": 4,
   "metadata": {},
   "outputs": [
    {
     "name": "stdout",
     "output_type": "stream",
     "text": [
      "1 -> 3 -> 5 -> 2 -> 4\n"
     ]
    }
   ],
   "source": [
    "class ListNode:\n",
    "    def __init__(self, val=0, next=None):\n",
    "        self.val = val\n",
    "        self.next = next\n",
    "\n",
    "def rearrange_list(head):\n",
    "    if not head:\n",
    "        return None\n",
    "\n",
    "    odd_dummy = ListNode(0)\n",
    "    even_dummy = ListNode(0)\n",
    "    odd_tail = odd_dummy\n",
    "    even_tail = even_dummy\n",
    "    current = head\n",
    "    index = 1\n",
    "\n",
    "    while current:\n",
    "        if index % 2 == 1:\n",
    "            odd_tail.next = current\n",
    "            odd_tail = odd_tail.next\n",
    "        else:\n",
    "            even_tail.next = current\n",
    "            even_tail = even_tail.next\n",
    "        current = current.next\n",
    "        index += 1\n",
    "\n",
    "    even_tail.next = None\n",
    "    odd_tail.next = even_dummy.next\n",
    "\n",
    "    return odd_dummy.next\n",
    "\n",
    "def print_list(node):\n",
    "    while node:\n",
    "        print(node.val, end=\" -> \" if node.next else \"\\n\")\n",
    "        node = node.next\n",
    "\n",
    "head = ListNode(1, ListNode(2, ListNode(3, ListNode(4, ListNode(5)))))\n",
    "\n",
    "rearranged_head = rearrange_list(head)\n",
    "\n",
    "print_list(rearranged_head)  "
   ]
  },
  {
   "cell_type": "markdown",
   "metadata": {},
   "source": [
    "Problem 13: Given a non-negative number represented as a linked list, add one to it.\n",
    "Input: 1 -> 2 -> 3 (represents the number 123)\n",
    "Output: 1 -> 2 -> 4 (represents the number 124)"
   ]
  },
  {
   "cell_type": "code",
   "execution_count": 5,
   "metadata": {},
   "outputs": [
    {
     "name": "stdout",
     "output_type": "stream",
     "text": [
      "1 -> 2 -> 4\n"
     ]
    }
   ],
   "source": [
    "class ListNode:\n",
    "    def __init__(self, val=0, next=None):\n",
    "        self.val = val\n",
    "        self.next = next\n",
    "\n",
    "def reverse_list(head):\n",
    "    prev = None\n",
    "    current = head\n",
    "    while current:\n",
    "        next_node = current.next\n",
    "        current.next = prev\n",
    "        prev = current\n",
    "        current = next_node\n",
    "    return prev\n",
    "\n",
    "def add_one(head):\n",
    "    \n",
    "    head = reverse_list(head)\n",
    "    \n",
    "    current = head\n",
    "    carry = 1\n",
    "    \n",
    "    while current and carry:\n",
    "        new_sum = current.val + carry\n",
    "        current.val = new_sum % 10\n",
    "        carry = new_sum // 10\n",
    "        prev = current\n",
    "        current = current.next\n",
    "    \n",
    "    if carry:\n",
    "        prev.next = ListNode(carry)\n",
    "    \n",
    "    head = reverse_list(head)\n",
    "    return head\n",
    "\n",
    "def print_list(node):\n",
    "    while node:\n",
    "        print(node.val, end=\" -> \" if node.next else \"\\n\")\n",
    "        node = node.next\n",
    "\n",
    "head = ListNode(1, ListNode(2, ListNode(3)))\n",
    "\n",
    "result_head = add_one(head)\n",
    "\n",
    "print_list(result_head)  "
   ]
  },
  {
   "cell_type": "markdown",
   "metadata": {},
   "source": [
    "Problem 14: Given a sorted array and a target value, return the index if the target is found. If not, return the\n",
    "index where it would be inserted.\n",
    "Input: nums = [1, 3, 5, 6], target = 5\n",
    "Output: 2"
   ]
  },
  {
   "cell_type": "code",
   "execution_count": 9,
   "metadata": {},
   "outputs": [
    {
     "name": "stdout",
     "output_type": "stream",
     "text": [
      "2\n"
     ]
    }
   ],
   "source": [
    "def search_insert(nums, target):\n",
    "    left, right = 0, len(nums) - 1\n",
    "    \n",
    "    while left <= right:\n",
    "        mid = left + (right - left) // 2\n",
    "        \n",
    "        if nums[mid] == target:\n",
    "            return mid\n",
    "        elif nums[mid] < target:\n",
    "            left = mid + 1\n",
    "        else:\n",
    "            right = mid - 1\n",
    "    \n",
    "    return left\n",
    "\n",
    "nums = [1, 3, 5, 6]\n",
    "target = 5\n",
    "print(search_insert(nums, target))  \n",
    "\n",
    "\n"
   ]
  },
  {
   "cell_type": "markdown",
   "metadata": {},
   "source": [
    "Problem 15: Find the minimum element in a rotated sorted array.\n",
    "Input: [4, 5, 6, 7, 0, 1, 2]\n",
    "Output: 0"
   ]
  },
  {
   "cell_type": "code",
   "execution_count": 8,
   "metadata": {},
   "outputs": [
    {
     "data": {
      "text/plain": [
       "2"
      ]
     },
     "execution_count": 8,
     "metadata": {},
     "output_type": "execute_result"
    }
   ],
   "source": [
    "def find_minimum(nums):\n",
    "    if not nums:\n",
    "        return None\n",
    "    \n",
    "    left, right = 0, len(nums) - 1\n",
    "    \n",
    "    while left < right:\n",
    "        mid = left + (right - left) // 2\n",
    "        \n",
    "        if nums[mid] < nums[mid - 1]:\n",
    "            return nums[mid]\n",
    "        \n",
    "        if nums[mid] >= nums[left]:\n",
    "            left = mid + 1\n",
    "        else:\n",
    "            right = mid - 1\n",
    "    \n",
    "    return nums[left]\n",
    "\n",
    "find_minimum([4, 5, 6, 7, 0, 1, 2])\n"
   ]
  },
  {
   "cell_type": "markdown",
   "metadata": {},
   "source": [
    "Problem 16: Search for a target value in a rotated sorted array.\n",
    "Input: nums = [4, 5, 6, 7, 0, 1, 2], target = 0\n",
    "Output: 4"
   ]
  },
  {
   "cell_type": "code",
   "execution_count": 10,
   "metadata": {},
   "outputs": [
    {
     "name": "stdout",
     "output_type": "stream",
     "text": [
      "4\n"
     ]
    }
   ],
   "source": [
    "def search_rotated_sorted_array(nums, target):\n",
    "    left, right = 0, len(nums) - 1\n",
    "    \n",
    "    while left <= right:\n",
    "        mid = left + (right - left) // 2\n",
    "        \n",
    "        if nums[mid] == target:\n",
    "            return mid\n",
    "        \n",
    "        if nums[left] <= nums[mid]:\n",
    "            \n",
    "            if nums[left] <= target < nums[mid]:\n",
    "                right = mid - 1\n",
    "            else:\n",
    "                left = mid + 1\n",
    "        \n",
    "        else:\n",
    "            if nums[mid] < target <= nums[right]:\n",
    "                left = mid + 1\n",
    "            else:\n",
    "                right = mid - 1\n",
    "    \n",
    "    return -1\n",
    "\n",
    "print(search_rotated_sorted_array([4, 5, 6, 7, 0, 1, 2], 0))  \n"
   ]
  },
  {
   "cell_type": "markdown",
   "metadata": {},
   "source": [
    "Problem 17: Find the peak element in an array. A peak element is greater than its neighbors.\n",
    "Input: nums = [1, 2, 3, 1]\n",
    "Output: 2 (index of peak element)"
   ]
  },
  {
   "cell_type": "code",
   "execution_count": 11,
   "metadata": {},
   "outputs": [
    {
     "name": "stdout",
     "output_type": "stream",
     "text": [
      "2\n"
     ]
    }
   ],
   "source": [
    "def find_peak_element(nums):\n",
    "    left, right = 0, len(nums) - 1\n",
    "    \n",
    "    while left <= right:\n",
    "        mid = left + (right - left) // 2\n",
    "        \n",
    "        if (mid == 0 or nums[mid] > nums[mid - 1]) and (mid == len(nums) - 1 or nums[mid] > nums[mid + 1]):\n",
    "            return mid\n",
    "        \n",
    "        if mid < len(nums) - 1 and nums[mid] < nums[mid + 1]:\n",
    "            left = mid + 1\n",
    "        else:\n",
    "            right = mid - 1\n",
    "    \n",
    "    return -1  \n",
    "print(find_peak_element([1, 2, 3, 1]))  "
   ]
  },
  {
   "cell_type": "markdown",
   "metadata": {},
   "source": [
    "Problem 18: Given a m x n matrix where each row and column is sorted in ascending order, count the number\n",
    "of negative numbers.\n",
    "Input: grid = [[4, 3, 2, -1], [3, 2, 1, -1], [1, 1, -1, -2], [-1, -1, -2, -3]]\n",
    "Output: 8"
   ]
  },
  {
   "cell_type": "code",
   "execution_count": 18,
   "metadata": {},
   "outputs": [
    {
     "name": "stdout",
     "output_type": "stream",
     "text": [
      "8\n"
     ]
    }
   ],
   "source": [
    "def count_negatives(grid):\n",
    "    if not grid:\n",
    "        return 0\n",
    "\n",
    "    m, n = len(grid), len(grid[0])\n",
    "    count = 0\n",
    "    \n",
    "    for row in grid:\n",
    "        \n",
    "        left, right = 0, n - 1\n",
    "        while left <= right:\n",
    "            mid = left + (right - left) // 2\n",
    "            if row[mid] < 0:\n",
    "                right = mid - 1\n",
    "            else:\n",
    "                left = mid + 1\n",
    "        \n",
    "        count += (n - left)\n",
    "    \n",
    "    return count\n",
    "\n",
    "grid = [[4, 3, 2, -1], [3, 2, 1, -1], [1, 1, -1, -2], [-1, -1, -2, -3]]\n",
    "print(count_negatives(grid))  \n"
   ]
  },
  {
   "cell_type": "markdown",
   "metadata": {},
   "source": [
    "Problem 19: Given a 2D matrix sorted in ascending order in each row, and the first integer of each row is\n",
    "greater than the last integer of the previous row, determine if a target value is present in the matrix.\n",
    "Input: matrix = [[1, 3, 5, 7], [10, 11, 16, 20], [23, 30, 34, 60]], target = 3\n",
    "Output: True"
   ]
  },
  {
   "cell_type": "code",
   "execution_count": 19,
   "metadata": {},
   "outputs": [
    {
     "name": "stdout",
     "output_type": "stream",
     "text": [
      "True\n"
     ]
    }
   ],
   "source": [
    "def search_matrix(matrix, target):\n",
    "    if not matrix or not matrix[0]:\n",
    "        return False\n",
    "\n",
    "    m, n = len(matrix), len(matrix[0])\n",
    "    left, right = 0, m * n - 1\n",
    "    \n",
    "    while left <= right:\n",
    "        mid = left + (right - left) // 2\n",
    "        mid_value = matrix[mid // n][mid % n]\n",
    "        \n",
    "        if mid_value == target:\n",
    "            return True\n",
    "        elif mid_value < target:\n",
    "            left = mid + 1\n",
    "        else:\n",
    "            right = mid - 1\n",
    "    \n",
    "    return False\n",
    "\n",
    "matrix = [[1, 3, 5, 7], [10, 11, 16, 20], [23, 30, 34, 60]]\n",
    "target = 3\n",
    "print(search_matrix(matrix, target))  "
   ]
  },
  {
   "cell_type": "markdown",
   "metadata": {},
   "source": [
    "Problem 20: Find Median in Two Sorted Arrays\n",
    "Problem: Given two sorted arrays, find the median of the combined sorted array.\n",
    "Input: nums1 = [1, 3], nums2 = [2]\n",
    "Output: 2.0"
   ]
  },
  {
   "cell_type": "code",
   "execution_count": 20,
   "metadata": {},
   "outputs": [
    {
     "name": "stdout",
     "output_type": "stream",
     "text": [
      "2\n"
     ]
    }
   ],
   "source": [
    "def find_median_sorted_arrays(nums1, nums2):\n",
    "    \n",
    "    \n",
    "    if len(nums1) > len(nums2):\n",
    "        nums1, nums2 = nums2, nums1\n",
    "    \n",
    "    m, n = len(nums1), len(nums2)\n",
    "    imin, imax, half_len = 0, m, (m + n + 1) // 2\n",
    "    \n",
    "    while imin <= imax:\n",
    "        i = (imin + imax) // 2\n",
    "        j = half_len - i\n",
    "        \n",
    "        if i < m and nums2[j - 1] > nums1[i]:\n",
    "            \n",
    "            imin = i + 1\n",
    "        elif i > 0 and nums1[i - 1] > nums2[j]:\n",
    "            \n",
    "            imax = i - 1\n",
    "        else:\n",
    "            \n",
    "            if i == 0: max_of_left = nums2[j - 1]\n",
    "            elif j == 0: max_of_left = nums1[i - 1]\n",
    "            else: max_of_left = max(nums1[i - 1], nums2[j - 1])\n",
    "            \n",
    "            if (m + n) % 2 == 1:\n",
    "                return max_of_left\n",
    "            \n",
    "            if i == m: min_of_right = nums2[j]\n",
    "            elif j == n: min_of_right = nums1[i]\n",
    "            else: min_of_right = min(nums1[i], nums2[j])\n",
    "            \n",
    "            return (max_of_left + min_of_right) / 2.0\n",
    "\n",
    "nums1 = [1, 3]\n",
    "nums2 = [2]\n",
    "print(find_median_sorted_arrays(nums1, nums2))  "
   ]
  },
  {
   "cell_type": "markdown",
   "metadata": {},
   "source": [
    "Problem 21: Given a sorted character array and a target letter, find the smallest letter in the array that is\n",
    "greater than the target.\n",
    "Input: letters = ['c', 'f', 'j'], target = a\n",
    "Output: 'c'"
   ]
  },
  {
   "cell_type": "code",
   "execution_count": 21,
   "metadata": {},
   "outputs": [
    {
     "name": "stdout",
     "output_type": "stream",
     "text": [
      "c\n"
     ]
    }
   ],
   "source": [
    "def next_greatest_letter(letters, target):\n",
    "    left, right = 0, len(letters)\n",
    "    \n",
    "    while left < right:\n",
    "        mid = left + (right - left) // 2\n",
    "        if letters[mid] <= target:\n",
    "            left = mid + 1\n",
    "        else:\n",
    "            right = mid\n",
    "    \n",
    "    return letters[left % len(letters)]\n",
    "\n",
    "letters = ['c', 'f', 'j']\n",
    "target = 'a'\n",
    "print(next_greatest_letter(letters, target)) \n"
   ]
  },
  {
   "cell_type": "markdown",
   "metadata": {},
   "source": [
    "Problem 22: Given an array with n objects colored red, white, or blue, sort them in-place so that objects of\n",
    "the same color are adjacent, with the colors in the order red, white, and blue.\n",
    "Input: nums = [2, 0, 2, 1, 1, 0]\n",
    "Output: [0, 0, 1, 1, 2, 2]"
   ]
  },
  {
   "cell_type": "code",
   "execution_count": 22,
   "metadata": {},
   "outputs": [
    {
     "name": "stdout",
     "output_type": "stream",
     "text": [
      "[0, 0, 1, 1, 2, 2]\n"
     ]
    }
   ],
   "source": [
    "def sort_colors(nums):\n",
    "    low, mid, high = 0, 0, len(nums) - 1\n",
    "    \n",
    "    while mid <= high:\n",
    "        if nums[mid] == 0:\n",
    "            nums[low], nums[mid] = nums[mid], nums[low]\n",
    "            low += 1\n",
    "            mid += 1\n",
    "        elif nums[mid] == 1:\n",
    "            mid += 1\n",
    "        else:  \n",
    "            nums[high], nums[mid] = nums[mid], nums[high]\n",
    "            high -= 1\n",
    "\n",
    "nums = [2, 0, 2, 1, 1, 0]\n",
    "sort_colors(nums)\n",
    "print(nums)  "
   ]
  },
  {
   "cell_type": "markdown",
   "metadata": {},
   "source": [
    "Problem 23: Find the kth largest element in an unsorted array.\n",
    "Input: nums = [3, 2, 1, 5, 6, 4], k = 2\n",
    "Output: 5"
   ]
  },
  {
   "cell_type": "code",
   "execution_count": 24,
   "metadata": {},
   "outputs": [
    {
     "name": "stdout",
     "output_type": "stream",
     "text": [
      "5\n"
     ]
    }
   ],
   "source": [
    "import heapq\n",
    "\n",
    "def find_kth_largest(nums, k):\n",
    "    return heapq.nlargest(k, nums)[-1]\n",
    "\n",
    "nums = [3, 2, 1, 5, 6, 4]\n",
    "k = 2\n",
    "print(find_kth_largest(nums, k))  \n"
   ]
  },
  {
   "cell_type": "markdown",
   "metadata": {},
   "source": [
    "Problem 24: Given an unsorted array, reorder it in-place such that nums[0] <= nums[1] >= nums[2] <=\n",
    "nums[3]...\n",
    "Input: nums = [3, 5, 2, 1, 6, 4]\n",
    "Output: [3, 5, 1, 6, 2, 4]"
   ]
  },
  {
   "cell_type": "code",
   "execution_count": 25,
   "metadata": {},
   "outputs": [
    {
     "name": "stdout",
     "output_type": "stream",
     "text": [
      "[3, 5, 1, 6, 2, 4]\n"
     ]
    }
   ],
   "source": [
    "def wiggle_sort(nums):\n",
    "    for i in range(len(nums) - 1):\n",
    "        if (i % 2 == 0 and nums[i] > nums[i + 1]) or (i % 2 == 1 and nums[i] < nums[i + 1]):\n",
    "            nums[i], nums[i + 1] = nums[i + 1], nums[i]\n",
    "\n",
    "nums = [3, 5, 2, 1, 6, 4]\n",
    "wiggle_sort(nums)\n",
    "print(nums)  "
   ]
  },
  {
   "cell_type": "markdown",
   "metadata": {},
   "source": [
    "Problem 25: Given an array of integers, calculate the sum of all its elements.\n",
    "Input: [1, 2, 3, 4, 5]\n",
    "Output: 15"
   ]
  },
  {
   "cell_type": "code",
   "execution_count": 26,
   "metadata": {},
   "outputs": [
    {
     "name": "stdout",
     "output_type": "stream",
     "text": [
      "15\n"
     ]
    }
   ],
   "source": [
    "def array_sum(nums):\n",
    "    return sum(nums)\n",
    "\n",
    "nums = [1, 2, 3, 4, 5]\n",
    "print(array_sum(nums))  \n"
   ]
  },
  {
   "cell_type": "markdown",
   "metadata": {},
   "source": [
    "Problem 26: Find the maximum element in an array of integers.\n",
    "Input: [3, 7, 2, 9, 4, 1]\n",
    "Output: 9"
   ]
  },
  {
   "cell_type": "code",
   "execution_count": 1,
   "metadata": {},
   "outputs": [
    {
     "name": "stdout",
     "output_type": "stream",
     "text": [
      "9\n"
     ]
    }
   ],
   "source": [
    "def find_max_element(nums):\n",
    "    if not nums:\n",
    "        print(\"The array is empty.\")\n",
    "    \n",
    "    max_element = nums[0]\n",
    "    for num in nums:\n",
    "        if num > max_element:\n",
    "            max_element = num\n",
    "    \n",
    "    return max_element\n",
    "\n",
    "nums = [3, 7, 2, 9, 4, 1]\n",
    "print(find_max_element(nums)) \n"
   ]
  },
  {
   "cell_type": "markdown",
   "metadata": {},
   "source": [
    "Problem 27: Implement linear search to find the index of a target element in an array.\n",
    "Input: [5, 3, 8, 2, 7, 4], target = 8\n",
    "Output: 2"
   ]
  },
  {
   "cell_type": "code",
   "execution_count": null,
   "metadata": {},
   "outputs": [],
   "source": []
  },
  {
   "cell_type": "markdown",
   "metadata": {},
   "source": [
    "Problem 28 Calculate the factorial of a given number.\n",
    "Input: 5\n",
    "Output: 120 (as 5! = 5 * 4 * 3 * 2 * 1 = 120)"
   ]
  },
  {
   "cell_type": "code",
   "execution_count": 5,
   "metadata": {},
   "outputs": [
    {
     "name": "stdout",
     "output_type": "stream",
     "text": [
      "120\n"
     ]
    }
   ],
   "source": [
    "def factorial(n):\n",
    "    if n == 0 or n ==1:\n",
    "        return 1\n",
    "    else:\n",
    "        fact = 1\n",
    "        for i in range(1,n+1):\n",
    "            fact*=i \n",
    "        return fact \n",
    "\n",
    "print(factorial(5))\n"
   ]
  },
  {
   "cell_type": "markdown",
   "metadata": {},
   "source": [
    "Problem 29: Check if a given number is a prime number.\n",
    "Input: 7\n",
    "Output: True"
   ]
  },
  {
   "cell_type": "code",
   "execution_count": 2,
   "metadata": {},
   "outputs": [
    {
     "name": "stdout",
     "output_type": "stream",
     "text": [
      "True\n"
     ]
    }
   ],
   "source": [
    "def is_prime(n):\n",
    "    if n <= 1:\n",
    "        return False\n",
    "    for i in range(2, int(n**0.5) + 1):\n",
    "        if n % i == 0:\n",
    "            return False\n",
    "    return True\n",
    "\n",
    "print(is_prime(7))  "
   ]
  },
  {
   "cell_type": "markdown",
   "metadata": {},
   "source": [
    "Problem 30: Generate the Fibonacci series up to a given number n.\n",
    "Input: 8\n",
    "Output: [0, 1, 1, 2, 3, 5, 8, 13]"
   ]
  },
  {
   "cell_type": "code",
   "execution_count": 3,
   "metadata": {},
   "outputs": [
    {
     "name": "stdout",
     "output_type": "stream",
     "text": [
      "[0, 1, 1, 2, 3, 5, 8]\n"
     ]
    }
   ],
   "source": [
    "def fibonacci_series(n):\n",
    "    series = [0, 1]\n",
    "    while series[-1] + series[-2] <= n:\n",
    "        series.append(series[-1] + series[-2])\n",
    "    return series\n",
    "\n",
    "print(fibonacci_series(8))  "
   ]
  },
  {
   "cell_type": "markdown",
   "metadata": {},
   "source": [
    "Problem 31: Calculate the power of a number using recursion.\n",
    "Input: base = 3, exponent = 4\n",
    "Output: 81 (as 3^4 = 3 * 3 * 3 * 3 = 81)"
   ]
  },
  {
   "cell_type": "code",
   "execution_count": 4,
   "metadata": {},
   "outputs": [
    {
     "name": "stdout",
     "output_type": "stream",
     "text": [
      "81\n"
     ]
    }
   ],
   "source": [
    "def power(base, exponent):\n",
    "    if exponent == 0:\n",
    "        return 1\n",
    "    return base * power(base, exponent - 1)\n",
    "\n",
    "print(power(3, 4))  "
   ]
  },
  {
   "cell_type": "markdown",
   "metadata": {},
   "source": [
    "Problem 32: Reverse a given string.\n",
    "Input: \"hello\"\n",
    "Output: \"olleh\""
   ]
  },
  {
   "cell_type": "code",
   "execution_count": 6,
   "metadata": {},
   "outputs": [
    {
     "name": "stdout",
     "output_type": "stream",
     "text": [
      "olleh\n"
     ]
    }
   ],
   "source": [
    "def reverse_string(string):\n",
    "    return string[::-1]\n",
    "\n",
    "print(reverse_string('hello'))"
   ]
  },
  {
   "cell_type": "code",
   "execution_count": null,
   "metadata": {},
   "outputs": [],
   "source": []
  }
 ],
 "metadata": {
  "kernelspec": {
   "display_name": "Python 3",
   "language": "python",
   "name": "python3"
  },
  "language_info": {
   "codemirror_mode": {
    "name": "ipython",
    "version": 3
   },
   "file_extension": ".py",
   "mimetype": "text/x-python",
   "name": "python",
   "nbconvert_exporter": "python",
   "pygments_lexer": "ipython3",
   "version": "3.8.10"
  }
 },
 "nbformat": 4,
 "nbformat_minor": 2
}
